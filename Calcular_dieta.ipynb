{
 "cells": [
  {
   "cell_type": "code",
   "execution_count": 1,
   "metadata": {},
   "outputs": [],
   "source": [
    "import pandas as pd\n",
    "import urllib\n",
    "from bs4 import BeautifulSoup\n",
    "import time\n",
    "from fatsecret import Fatsecret\n",
    "import matplotlib.pyplot as plt"
   ]
  },
  {
   "cell_type": "code",
   "execution_count": 2,
   "metadata": {},
   "outputs": [
    {
     "data": {
      "text/html": [
       "<div>\n",
       "<style scoped>\n",
       "    .dataframe tbody tr th:only-of-type {\n",
       "        vertical-align: middle;\n",
       "    }\n",
       "\n",
       "    .dataframe tbody tr th {\n",
       "        vertical-align: top;\n",
       "    }\n",
       "\n",
       "    .dataframe thead th {\n",
       "        text-align: right;\n",
       "    }\n",
       "</style>\n",
       "<table border=\"1\" class=\"dataframe\">\n",
       "  <thead>\n",
       "    <tr style=\"text-align: right;\">\n",
       "      <th></th>\n",
       "      <th>Alimento</th>\n",
       "    </tr>\n",
       "  </thead>\n",
       "  <tbody>\n",
       "    <tr>\n",
       "      <th>0</th>\n",
       "      <td>egg</td>\n",
       "    </tr>\n",
       "    <tr>\n",
       "      <th>1</th>\n",
       "      <td>Turkey</td>\n",
       "    </tr>\n",
       "    <tr>\n",
       "      <th>2</th>\n",
       "      <td>skimmed milk</td>\n",
       "    </tr>\n",
       "    <tr>\n",
       "      <th>3</th>\n",
       "      <td>oats</td>\n",
       "    </tr>\n",
       "    <tr>\n",
       "      <th>4</th>\n",
       "      <td>wholemeal bread</td>\n",
       "    </tr>\n",
       "  </tbody>\n",
       "</table>\n",
       "</div>"
      ],
      "text/plain": [
       "          Alimento\n",
       "0              egg\n",
       "1           Turkey\n",
       "2     skimmed milk\n",
       "3             oats\n",
       "4  wholemeal bread"
      ]
     },
     "execution_count": 2,
     "metadata": {},
     "output_type": "execute_result"
    }
   ],
   "source": [
    "datos=pd.read_excel('alimentos.xlsx',names=['Alimento'])\n",
    "datos.head()\n",
    "#Importo el archivo que tengo en excel con los alimentos que suelo comer"
   ]
  },
  {
   "cell_type": "code",
   "execution_count": 3,
   "metadata": {},
   "outputs": [],
   "source": [
    "#Añado a cada cadena el valor 100g Generic para obtener los valores genericos de 100 gramos de dicho alimento por la API\n",
    "datos['Consulta']=datos['Alimento'].apply(lambda x: x + ' 100g Generic') "
   ]
  },
  {
   "cell_type": "code",
   "execution_count": 4,
   "metadata": {},
   "outputs": [
    {
     "data": {
      "text/html": [
       "<div>\n",
       "<style scoped>\n",
       "    .dataframe tbody tr th:only-of-type {\n",
       "        vertical-align: middle;\n",
       "    }\n",
       "\n",
       "    .dataframe tbody tr th {\n",
       "        vertical-align: top;\n",
       "    }\n",
       "\n",
       "    .dataframe thead th {\n",
       "        text-align: right;\n",
       "    }\n",
       "</style>\n",
       "<table border=\"1\" class=\"dataframe\">\n",
       "  <thead>\n",
       "    <tr style=\"text-align: right;\">\n",
       "      <th></th>\n",
       "      <th>Alimento</th>\n",
       "      <th>Consulta</th>\n",
       "    </tr>\n",
       "  </thead>\n",
       "  <tbody>\n",
       "    <tr>\n",
       "      <th>0</th>\n",
       "      <td>egg</td>\n",
       "      <td>egg 100g Generic</td>\n",
       "    </tr>\n",
       "    <tr>\n",
       "      <th>1</th>\n",
       "      <td>Turkey</td>\n",
       "      <td>Turkey 100g Generic</td>\n",
       "    </tr>\n",
       "    <tr>\n",
       "      <th>2</th>\n",
       "      <td>skimmed milk</td>\n",
       "      <td>skimmed milk 100g Generic</td>\n",
       "    </tr>\n",
       "    <tr>\n",
       "      <th>3</th>\n",
       "      <td>oats</td>\n",
       "      <td>oats 100g Generic</td>\n",
       "    </tr>\n",
       "    <tr>\n",
       "      <th>4</th>\n",
       "      <td>wholemeal bread</td>\n",
       "      <td>wholemeal bread 100g Generic</td>\n",
       "    </tr>\n",
       "  </tbody>\n",
       "</table>\n",
       "</div>"
      ],
      "text/plain": [
       "          Alimento                      Consulta\n",
       "0              egg              egg 100g Generic\n",
       "1           Turkey           Turkey 100g Generic\n",
       "2     skimmed milk     skimmed milk 100g Generic\n",
       "3             oats             oats 100g Generic\n",
       "4  wholemeal bread  wholemeal bread 100g Generic"
      ]
     },
     "execution_count": 4,
     "metadata": {},
     "output_type": "execute_result"
    }
   ],
   "source": [
    "datos.head()"
   ]
  },
  {
   "cell_type": "code",
   "execution_count": 5,
   "metadata": {},
   "outputs": [],
   "source": [
    "#Me registro en la api con mi consumer key y mi consumer secret\n",
    "fs = Fatsecret(\"####\", \"###\")"
   ]
  },
  {
   "cell_type": "code",
   "execution_count": 6,
   "metadata": {},
   "outputs": [],
   "source": [
    "#Obtengo los codigos de todos los alimentos\n",
    "#La búsqueda en la API la haré con estos códigos\n",
    "codigos=[]\n",
    "for i in datos['Consulta']:\n",
    "    foods = int(fs.foods_search(i)[0]['food_id']) #Obtengo todos los códigos de los alimentos\n",
    "    codigos.append(foods)\n",
    "    time.sleep(2)\n",
    "datos[\"Codigos\"]=codigos    "
   ]
  },
  {
   "cell_type": "code",
   "execution_count": 7,
   "metadata": {},
   "outputs": [
    {
     "data": {
      "text/html": [
       "<div>\n",
       "<style scoped>\n",
       "    .dataframe tbody tr th:only-of-type {\n",
       "        vertical-align: middle;\n",
       "    }\n",
       "\n",
       "    .dataframe tbody tr th {\n",
       "        vertical-align: top;\n",
       "    }\n",
       "\n",
       "    .dataframe thead th {\n",
       "        text-align: right;\n",
       "    }\n",
       "</style>\n",
       "<table border=\"1\" class=\"dataframe\">\n",
       "  <thead>\n",
       "    <tr style=\"text-align: right;\">\n",
       "      <th></th>\n",
       "      <th>Alimento</th>\n",
       "      <th>Consulta</th>\n",
       "      <th>Codigos</th>\n",
       "    </tr>\n",
       "  </thead>\n",
       "  <tbody>\n",
       "    <tr>\n",
       "      <th>0</th>\n",
       "      <td>egg</td>\n",
       "      <td>egg 100g Generic</td>\n",
       "      <td>3092</td>\n",
       "    </tr>\n",
       "    <tr>\n",
       "      <th>1</th>\n",
       "      <td>Turkey</td>\n",
       "      <td>Turkey 100g Generic</td>\n",
       "      <td>1741</td>\n",
       "    </tr>\n",
       "    <tr>\n",
       "      <th>2</th>\n",
       "      <td>skimmed milk</td>\n",
       "      <td>skimmed milk 100g Generic</td>\n",
       "      <td>793</td>\n",
       "    </tr>\n",
       "    <tr>\n",
       "      <th>3</th>\n",
       "      <td>oats</td>\n",
       "      <td>oats 100g Generic</td>\n",
       "      <td>4764</td>\n",
       "    </tr>\n",
       "    <tr>\n",
       "      <th>4</th>\n",
       "      <td>wholemeal bread</td>\n",
       "      <td>wholemeal bread 100g Generic</td>\n",
       "      <td>3422</td>\n",
       "    </tr>\n",
       "  </tbody>\n",
       "</table>\n",
       "</div>"
      ],
      "text/plain": [
       "          Alimento                      Consulta  Codigos\n",
       "0              egg              egg 100g Generic     3092\n",
       "1           Turkey           Turkey 100g Generic     1741\n",
       "2     skimmed milk     skimmed milk 100g Generic      793\n",
       "3             oats             oats 100g Generic     4764\n",
       "4  wholemeal bread  wholemeal bread 100g Generic     3422"
      ]
     },
     "execution_count": 7,
     "metadata": {},
     "output_type": "execute_result"
    }
   ],
   "source": [
    "datos.head()"
   ]
  },
  {
   "cell_type": "code",
   "execution_count": 8,
   "metadata": {},
   "outputs": [],
   "source": [
    "#Realizo la petición final en la que busco las calorías y gramos de cada macronutriente (Proteina,hidrato y grasa)\n",
    "finito=[]\n",
    "for a in datos['Codigos']:\n",
    "    fino=fs.food_get(a)\n",
    "    informacion_fina={\n",
    "        \"Codigos\":a,\n",
    "        'calorias':fino['servings']['serving'][0]['calories'],\n",
    "        'carbohidratos':fino['servings']['serving'][0]['carbohydrate'],\n",
    "        'grasas':fino['servings']['serving'][0]['fat'],\n",
    "        'proteinas':fino['servings']['serving'][0]['protein']\n",
    "    }\n",
    "    finito.append(informacion_fina)\n",
    "    time.sleep(2)"
   ]
  },
  {
   "cell_type": "code",
   "execution_count": 9,
   "metadata": {},
   "outputs": [],
   "source": [
    "#Creo la tabla final sobre la que haré los cálculos de la dieta diariamente\n",
    "datos2=pd.DataFrame(finito)\n",
    "datos_final=datos.merge(datos2,left_on=\"Codigos\", right_on=\"Codigos\").drop(labels=\"Consulta\",axis=1)\n",
    "datos_final['cantidad(gramos)']=100 #Añado este valor ya que los cálculos se hacen sobre 100"
   ]
  },
  {
   "cell_type": "code",
   "execution_count": 10,
   "metadata": {},
   "outputs": [
    {
     "data": {
      "text/html": [
       "<div>\n",
       "<style scoped>\n",
       "    .dataframe tbody tr th:only-of-type {\n",
       "        vertical-align: middle;\n",
       "    }\n",
       "\n",
       "    .dataframe tbody tr th {\n",
       "        vertical-align: top;\n",
       "    }\n",
       "\n",
       "    .dataframe thead th {\n",
       "        text-align: right;\n",
       "    }\n",
       "</style>\n",
       "<table border=\"1\" class=\"dataframe\">\n",
       "  <thead>\n",
       "    <tr style=\"text-align: right;\">\n",
       "      <th></th>\n",
       "      <th>Alimento</th>\n",
       "      <th>Codigos</th>\n",
       "      <th>calorias</th>\n",
       "      <th>carbohidratos</th>\n",
       "      <th>grasas</th>\n",
       "      <th>proteinas</th>\n",
       "      <th>cantidad(gramos)</th>\n",
       "    </tr>\n",
       "  </thead>\n",
       "  <tbody>\n",
       "    <tr>\n",
       "      <th>0</th>\n",
       "      <td>egg</td>\n",
       "      <td>3092</td>\n",
       "      <td>96</td>\n",
       "      <td>0.50</td>\n",
       "      <td>6.46</td>\n",
       "      <td>8.18</td>\n",
       "      <td>100</td>\n",
       "    </tr>\n",
       "    <tr>\n",
       "      <th>1</th>\n",
       "      <td>Turkey</td>\n",
       "      <td>1741</td>\n",
       "      <td>26</td>\n",
       "      <td>0</td>\n",
       "      <td>0.98</td>\n",
       "      <td>4.05</td>\n",
       "      <td>100</td>\n",
       "    </tr>\n",
       "    <tr>\n",
       "      <th>2</th>\n",
       "      <td>skimmed milk</td>\n",
       "      <td>793</td>\n",
       "      <td>122</td>\n",
       "      <td>11.49</td>\n",
       "      <td>4.88</td>\n",
       "      <td>8.03</td>\n",
       "      <td>100</td>\n",
       "    </tr>\n",
       "    <tr>\n",
       "      <th>3</th>\n",
       "      <td>oats</td>\n",
       "      <td>4764</td>\n",
       "      <td>311</td>\n",
       "      <td>54.27</td>\n",
       "      <td>5.10</td>\n",
       "      <td>12.96</td>\n",
       "      <td>100</td>\n",
       "    </tr>\n",
       "    <tr>\n",
       "      <th>4</th>\n",
       "      <td>wholemeal bread</td>\n",
       "      <td>3422</td>\n",
       "      <td>53</td>\n",
       "      <td>10.12</td>\n",
       "      <td>0.66</td>\n",
       "      <td>1.53</td>\n",
       "      <td>100</td>\n",
       "    </tr>\n",
       "  </tbody>\n",
       "</table>\n",
       "</div>"
      ],
      "text/plain": [
       "          Alimento  Codigos calorias carbohidratos grasas proteinas  \\\n",
       "0              egg     3092       96          0.50   6.46      8.18   \n",
       "1           Turkey     1741       26             0   0.98      4.05   \n",
       "2     skimmed milk      793      122         11.49   4.88      8.03   \n",
       "3             oats     4764      311         54.27   5.10     12.96   \n",
       "4  wholemeal bread     3422       53         10.12   0.66      1.53   \n",
       "\n",
       "   cantidad(gramos)  \n",
       "0               100  \n",
       "1               100  \n",
       "2               100  \n",
       "3               100  \n",
       "4               100  "
      ]
     },
     "execution_count": 10,
     "metadata": {},
     "output_type": "execute_result"
    }
   ],
   "source": [
    "datos_final.head()"
   ]
  },
  {
   "cell_type": "code",
   "execution_count": 11,
   "metadata": {},
   "outputs": [],
   "source": [
    "datos_final.to_csv(\"tabla_final_.csv\",index=False)"
   ]
  },
  {
   "cell_type": "code",
   "execution_count": 12,
   "metadata": {},
   "outputs": [],
   "source": [
    "#Creo la clase Usuario, cada objeto será un usuario y se pedirá lo necesario para hacer los cálculos personalizados\n",
    "class Usuario:\n",
    "    def __init__(self,peso,altura,edad,actividad,plan):\n",
    "        self.peso=int(peso)\n",
    "        self.altura=int(altura)\n",
    "        self.edad=int(edad)\n",
    "        self.actividad=actividad\n",
    "        self.plan=plan\n",
    "    def calorias(self):\n",
    "        calorias=66.473+(13.715*self.peso)+(5.003*self.altura)-(6.755*self.edad)\n",
    "        if self.plan=='subir':\n",
    "            return int(calorias*1.5)\n",
    "        elif self.plan=='bajar':\n",
    "            return int(calorias-200)\n",
    "    def macros(self,calorias):\n",
    "        if self.plan=='subir':\n",
    "            proteina=2.2*self.peso\n",
    "            grasas=0.95*self.peso\n",
    "            carbos=(calorias-proteina*4-grasas*9)/4\n",
    "            return[proteina,grasas,carbos]\n",
    "        else:\n",
    "            proteina=2.5*self.peso\n",
    "            grasas=0.7*self.peso\n",
    "            carbos=(calorias-proteina*4-grasas*9)/4\n",
    "            return[proteina,grasas,carbos]"
   ]
  },
  {
   "cell_type": "code",
   "execution_count": 13,
   "metadata": {},
   "outputs": [
    {
     "name": "stdout",
     "output_type": "stream",
     "text": [
      "Introduzca separado por comas y sin espacios su peso,altura,edad,\n",
      "actividad(alta,media o baja) y su plan(subir o bajar de peso),\n",
      "Ejemplo(80,180,22,media,subir)\n"
     ]
    }
   ],
   "source": [
    "print('''Introduzca separado por comas y sin espacios su peso,altura,edad,\n",
    "actividad(alta,media o baja) y su plan(subir o bajar de peso),\n",
    "Ejemplo(80,180,22,media,subir)''')\n",
    "a=\"80,180,22,media,bajar\"#Sería lo que hubiera introducido un usuario\n",
    "a=a.split(',')\n",
    "if a[3]=='baja':\n",
    "    h=1.2\n",
    "elif a[3]=='media':\n",
    "    h=1.55\n",
    "else:\n",
    "    h=1,9\n",
    "\n",
    "persona=Usuario(a[0],a[1],a[2],h,a[4])#Creo el objeto"
   ]
  },
  {
   "cell_type": "code",
   "execution_count": 14,
   "metadata": {},
   "outputs": [
    {
     "data": {
      "text/plain": [
       "1715"
      ]
     },
     "execution_count": 14,
     "metadata": {},
     "output_type": "execute_result"
    }
   ],
   "source": [
    "persona.calorias()#Calorías a cumplir diariamente"
   ]
  },
  {
   "cell_type": "code",
   "execution_count": 15,
   "metadata": {},
   "outputs": [
    {
     "data": {
      "text/plain": [
       "[200.0, 56.0, 102.75]"
      ]
     },
     "execution_count": 15,
     "metadata": {},
     "output_type": "execute_result"
    }
   ],
   "source": [
    "persona.macros(persona.calorias())#Gramos de proteinas, grasas y carbohidratos respectivamente"
   ]
  },
  {
   "cell_type": "code",
   "execution_count": 18,
   "metadata": {},
   "outputs": [],
   "source": [
    "#Inicializar\n",
    "calorias=0\n",
    "carbohidratos=0\n",
    "grasas=0\n",
    "proteinas=0\n",
    "calorias_restantes=0\n",
    "carbo_restantes=0\n",
    "grasas_restantes=0\n",
    "proteina_restantes=0"
   ]
  },
  {
   "cell_type": "code",
   "execution_count": 19,
   "metadata": {},
   "outputs": [
    {
     "name": "stdout",
     "output_type": "stream",
     "text": [
      "Food :skimmed milk\n",
      "Weight in grams:300\n",
      "LLevas consumidas 366.0 calorias, 34.47 gramos de carbohidratos,14.64 gramos de grasas y 24.09 gramos de proteinas.\n",
      "Te quedan por consumir 1349.0 calorias.\n",
      "Te quedan por consumir 175.91 gramos de proteina.\n",
      "Te quedan por consumir 68.28 gramos de carbohidratos.\n",
      "Te quedan por consumir 41.36 gramos de grasa.\n",
      "\n"
     ]
    },
    {
     "data": {
      "image/png": "[encoded data removed]",
      "text/plain": [
       "<Figure size 432x288 with 1 Axes>"
      ]
     },
     "metadata": {
      "needs_background": "light"
     },
     "output_type": "display_data"
    }
   ],
   "source": [
    "alimento=input('Food :')\n",
    "cantidad=float(input('Weight in grams:'))\n",
    "calorias=calorias+float(datos_final[datos_final['Alimento']==alimento]['calorias'])*cantidad/100\n",
    "proteinas=proteinas+float(datos_final[datos_final['Alimento']==alimento]['proteinas'])*cantidad/100\n",
    "carbohidratos=carbohidratos+float(datos_final[datos_final['Alimento']==alimento]['carbohidratos'])*cantidad/100\n",
    "grasas=grasas+float(datos_final[datos_final['Alimento']==alimento]['grasas'])*cantidad/100\n",
    "\n",
    "print(\"LLevas consumidas {} calorias, {} gramos de carbohidratos,{} gramos de grasas y {} gramos de proteinas.\".format(calorias,carbohidratos,grasas,proteinas))\n",
    "calorias_restantes=persona.calorias()-calorias #Calculo el calculado en la clase menos el acumulado\n",
    "carbo_restantes=persona.macros(persona.calorias())[2]-carbohidratos\n",
    "grasas_restantes=persona.macros(persona.calorias())[1]-grasas\n",
    "proteina_restantes=persona.macros(persona.calorias())[0]-proteinas\n",
    "print('''Te quedan por consumir {} calorias.\n",
    "Te quedan por consumir {:.2f} gramos de proteina.\n",
    "Te quedan por consumir {:.2f} gramos de carbohidratos.\n",
    "Te quedan por consumir {:.2f} gramos de grasa.\n",
    "'''.format(calorias_restantes,proteina_restantes,carbo_restantes,grasas_restantes))\n",
    "\n",
    "p1 = plt.bar(x=range(3), height=[proteinas,carbohidratos,grasas], \n",
    "width=0.4,color='navy')\n",
    "p2 = plt.bar(x=range(3), height=[proteina_restantes,carbo_restantes,grasas_restantes], \n",
    "width=0.4,color=\"paleturquoise\",bottom=[proteinas,carbohidratos,grasas])\n",
    "plt.legend([\"Actual\", \"A alcanzar\"])\n",
    "plt.xticks(range(3),[\"Proteinas\",\"Carbohidratos\",\"Grasas\"])\n",
    "plt.show()"
   ]
  },
  {
   "cell_type": "code",
   "execution_count": null,
   "metadata": {},
   "outputs": [],
   "source": []
  }
 ],
 "metadata": {
  "kernelspec": {
   "display_name": "Python 3",
   "language": "python",
   "name": "python3"
  },
  "language_info": {
   "codemirror_mode": {
    "name": "ipython",
    "version": 3
   },
   "file_extension": ".py",
   "mimetype": "text/x-python",
   "name": "python",
   "nbconvert_exporter": "python",
   "pygments_lexer": "ipython3",
   "version": "3.7.5"
  }
 },
 "nbformat": 4,
 "nbformat_minor": 2
}
